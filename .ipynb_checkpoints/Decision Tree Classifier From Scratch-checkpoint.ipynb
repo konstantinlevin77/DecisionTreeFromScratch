{
 "cells": [
  {
   "cell_type": "markdown",
   "id": "5cc517d3",
   "metadata": {},
   "source": [
    "# Decision Tree Classifier From Scratch\n",
    "\n",
    "Welcome! In this notebook, we'll implement a decision tree classifier from scratch, using numpy. I'll try to explain things as clear as I can, so if you are a little familiar with decision trees, you can follow the notebook without any problem :) Let's start.\n"
   ]
  },
  {
   "cell_type": "markdown",
   "id": "ae7fb5cd",
   "metadata": {},
   "source": [
    "## 1. Importing The Libraries and The Data"
   ]
  },
  {
   "cell_type": "code",
   "execution_count": 1,
   "id": "0b650373",
   "metadata": {},
   "outputs": [
    {
     "name": "stdout",
     "output_type": "stream",
     "text": [
      "<class 'pandas.core.frame.DataFrame'>\n",
      "RangeIndex: 4024 entries, 0 to 4023\n",
      "Data columns (total 16 columns):\n",
      " #   Column                  Non-Null Count  Dtype \n",
      "---  ------                  --------------  ----- \n",
      " 0   Age                     4024 non-null   int64 \n",
      " 1   Race                    4024 non-null   object\n",
      " 2   Marital Status          4024 non-null   object\n",
      " 3   T Stage                 4024 non-null   object\n",
      " 4   N Stage                 4024 non-null   object\n",
      " 5   6th Stage               4024 non-null   object\n",
      " 6   differentiate           4024 non-null   object\n",
      " 7   Grade                   4024 non-null   object\n",
      " 8   A Stage                 4024 non-null   object\n",
      " 9   Tumor Size              4024 non-null   int64 \n",
      " 10  Estrogen Status         4024 non-null   object\n",
      " 11  Progesterone Status     4024 non-null   object\n",
      " 12  Regional Node Examined  4024 non-null   int64 \n",
      " 13  Reginol Node Positive   4024 non-null   int64 \n",
      " 14  Survival Months         4024 non-null   int64 \n",
      " 15  Status                  4024 non-null   object\n",
      "dtypes: int64(5), object(11)\n",
      "memory usage: 503.1+ KB\n"
     ]
    }
   ],
   "source": [
    "import numpy as np\n",
    "import pandas as pd\n",
    "import scipy\n",
    "\n",
    "# Visualizing libraries\n",
    "import seaborn as sns\n",
    "import matplotlib.pyplot as plt \n",
    "\n",
    "df = pd.read_csv(\"Breast_Cancer.csv\",encoding=\"utf8\")\n",
    "\n",
    "df.info()"
   ]
  },
  {
   "cell_type": "markdown",
   "id": "91ef239f",
   "metadata": {},
   "source": [
    "## 2. Preparing Data\n",
    "\n",
    "In this section, we'll make our data ready for modeling. Let's look at it to see what we can do.\n"
   ]
  },
  {
   "cell_type": "code",
   "execution_count": 2,
   "id": "064849a1",
   "metadata": {},
   "outputs": [
    {
     "data": {
      "text/html": [
       "<div>\n",
       "<style scoped>\n",
       "    .dataframe tbody tr th:only-of-type {\n",
       "        vertical-align: middle;\n",
       "    }\n",
       "\n",
       "    .dataframe tbody tr th {\n",
       "        vertical-align: top;\n",
       "    }\n",
       "\n",
       "    .dataframe thead th {\n",
       "        text-align: right;\n",
       "    }\n",
       "</style>\n",
       "<table border=\"1\" class=\"dataframe\">\n",
       "  <thead>\n",
       "    <tr style=\"text-align: right;\">\n",
       "      <th></th>\n",
       "      <th>Age</th>\n",
       "      <th>Race</th>\n",
       "      <th>Marital Status</th>\n",
       "      <th>T Stage</th>\n",
       "      <th>N Stage</th>\n",
       "      <th>6th Stage</th>\n",
       "      <th>differentiate</th>\n",
       "      <th>Grade</th>\n",
       "      <th>A Stage</th>\n",
       "      <th>Tumor Size</th>\n",
       "      <th>Estrogen Status</th>\n",
       "      <th>Progesterone Status</th>\n",
       "      <th>Regional Node Examined</th>\n",
       "      <th>Reginol Node Positive</th>\n",
       "      <th>Survival Months</th>\n",
       "      <th>Status</th>\n",
       "    </tr>\n",
       "  </thead>\n",
       "  <tbody>\n",
       "    <tr>\n",
       "      <th>0</th>\n",
       "      <td>68</td>\n",
       "      <td>White</td>\n",
       "      <td>Married</td>\n",
       "      <td>T1</td>\n",
       "      <td>N1</td>\n",
       "      <td>IIA</td>\n",
       "      <td>Poorly differentiated</td>\n",
       "      <td>3</td>\n",
       "      <td>Regional</td>\n",
       "      <td>4</td>\n",
       "      <td>Positive</td>\n",
       "      <td>Positive</td>\n",
       "      <td>24</td>\n",
       "      <td>1</td>\n",
       "      <td>60</td>\n",
       "      <td>Alive</td>\n",
       "    </tr>\n",
       "    <tr>\n",
       "      <th>1</th>\n",
       "      <td>50</td>\n",
       "      <td>White</td>\n",
       "      <td>Married</td>\n",
       "      <td>T2</td>\n",
       "      <td>N2</td>\n",
       "      <td>IIIA</td>\n",
       "      <td>Moderately differentiated</td>\n",
       "      <td>2</td>\n",
       "      <td>Regional</td>\n",
       "      <td>35</td>\n",
       "      <td>Positive</td>\n",
       "      <td>Positive</td>\n",
       "      <td>14</td>\n",
       "      <td>5</td>\n",
       "      <td>62</td>\n",
       "      <td>Alive</td>\n",
       "    </tr>\n",
       "    <tr>\n",
       "      <th>2</th>\n",
       "      <td>58</td>\n",
       "      <td>White</td>\n",
       "      <td>Divorced</td>\n",
       "      <td>T3</td>\n",
       "      <td>N3</td>\n",
       "      <td>IIIC</td>\n",
       "      <td>Moderately differentiated</td>\n",
       "      <td>2</td>\n",
       "      <td>Regional</td>\n",
       "      <td>63</td>\n",
       "      <td>Positive</td>\n",
       "      <td>Positive</td>\n",
       "      <td>14</td>\n",
       "      <td>7</td>\n",
       "      <td>75</td>\n",
       "      <td>Alive</td>\n",
       "    </tr>\n",
       "    <tr>\n",
       "      <th>3</th>\n",
       "      <td>58</td>\n",
       "      <td>White</td>\n",
       "      <td>Married</td>\n",
       "      <td>T1</td>\n",
       "      <td>N1</td>\n",
       "      <td>IIA</td>\n",
       "      <td>Poorly differentiated</td>\n",
       "      <td>3</td>\n",
       "      <td>Regional</td>\n",
       "      <td>18</td>\n",
       "      <td>Positive</td>\n",
       "      <td>Positive</td>\n",
       "      <td>2</td>\n",
       "      <td>1</td>\n",
       "      <td>84</td>\n",
       "      <td>Alive</td>\n",
       "    </tr>\n",
       "    <tr>\n",
       "      <th>4</th>\n",
       "      <td>47</td>\n",
       "      <td>White</td>\n",
       "      <td>Married</td>\n",
       "      <td>T2</td>\n",
       "      <td>N1</td>\n",
       "      <td>IIB</td>\n",
       "      <td>Poorly differentiated</td>\n",
       "      <td>3</td>\n",
       "      <td>Regional</td>\n",
       "      <td>41</td>\n",
       "      <td>Positive</td>\n",
       "      <td>Positive</td>\n",
       "      <td>3</td>\n",
       "      <td>1</td>\n",
       "      <td>50</td>\n",
       "      <td>Alive</td>\n",
       "    </tr>\n",
       "  </tbody>\n",
       "</table>\n",
       "</div>"
      ],
      "text/plain": [
       "   Age   Race Marital Status T Stage  N Stage 6th Stage  \\\n",
       "0   68  White        Married       T1      N1       IIA   \n",
       "1   50  White        Married       T2      N2      IIIA   \n",
       "2   58  White       Divorced       T3      N3      IIIC   \n",
       "3   58  White        Married       T1      N1       IIA   \n",
       "4   47  White        Married       T2      N1       IIB   \n",
       "\n",
       "               differentiate Grade   A Stage  Tumor Size Estrogen Status  \\\n",
       "0      Poorly differentiated     3  Regional           4        Positive   \n",
       "1  Moderately differentiated     2  Regional          35        Positive   \n",
       "2  Moderately differentiated     2  Regional          63        Positive   \n",
       "3      Poorly differentiated     3  Regional          18        Positive   \n",
       "4      Poorly differentiated     3  Regional          41        Positive   \n",
       "\n",
       "  Progesterone Status  Regional Node Examined  Reginol Node Positive  \\\n",
       "0            Positive                      24                      1   \n",
       "1            Positive                      14                      5   \n",
       "2            Positive                      14                      7   \n",
       "3            Positive                       2                      1   \n",
       "4            Positive                       3                      1   \n",
       "\n",
       "   Survival Months Status  \n",
       "0               60  Alive  \n",
       "1               62  Alive  \n",
       "2               75  Alive  \n",
       "3               84  Alive  \n",
       "4               50  Alive  "
      ]
     },
     "execution_count": 2,
     "metadata": {},
     "output_type": "execute_result"
    }
   ],
   "source": [
    "df.head()"
   ]
  },
  {
   "cell_type": "markdown",
   "id": "cc0ec964",
   "metadata": {},
   "source": [
    "* Our numerical features are:\n",
    "    1. Age \n",
    "    2. Tumor Size\n",
    "    3. Regional Node Examined\n",
    "    4. Reginol Node Postiive\n",
    "    5. Survival Months\n",
    "   \n",
    "<br>\n",
    "\n",
    "* Our categorical features are\n",
    "    1. Race\n",
    "    2. Marital Status\n",
    "    3. T Stage\n",
    "    4. N Stage\n",
    "    5. 6th Stage\n",
    "    6. differentiate\n",
    "    7. Grade (not sure of this one, we'll check.)\n",
    "    8. A Stage\n",
    "    9. Estrogen Status\n",
    "    10. Progesterone Status\n",
    "    \n",
    "</br>   \n",
    "\n",
    "* Our target feature is: **Status**\n",
    "\n",
    "Before talking about our strategy, let's check the distribution of classes Alive and Dead."
   ]
  },
  {
   "cell_type": "code",
   "execution_count": 3,
   "id": "31a9b95f",
   "metadata": {},
   "outputs": [
    {
     "data": {
      "image/png": "[encoded data removed]",
      "text/plain": [
       "<Figure size 300x300 with 1 Axes>"
      ]
     },
     "metadata": {},
     "output_type": "display_data"
    }
   ],
   "source": [
    "sns.displot(df[\"Status\"],height=3)\n",
    "plt.show()"
   ]
  },
  {
   "cell_type": "markdown",
   "id": "d6ca585e",
   "metadata": {},
   "source": [
    "* Our dataset is imbalanced, so we should use **precision and recall** as accuracy metrics. \n",
    "\n",
    "So let's focus on our data processing strategy.\n",
    "\n",
    "* There's nothing we have to do for numerical features. \n",
    "* Strategy for categorical classes:\n",
    "    1. Check unique values\n",
    "    2. One hot encode!\n",
    "    \n",
    "### Feature: Race"
   ]
  },
  {
   "cell_type": "code",
   "execution_count": 4,
   "id": "8fc8844f",
   "metadata": {},
   "outputs": [
    {
     "name": "stdout",
     "output_type": "stream",
     "text": [
      "['White' 'Black' 'Other']\n"
     ]
    }
   ],
   "source": [
    "print(df[\"Race\"].unique())"
   ]
  },
  {
   "cell_type": "code",
   "execution_count": 5,
   "id": "22157e50",
   "metadata": {
    "scrolled": true
   },
   "outputs": [
    {
     "data": {
      "text/html": [
       "<div>\n",
       "<style scoped>\n",
       "    .dataframe tbody tr th:only-of-type {\n",
       "        vertical-align: middle;\n",
       "    }\n",
       "\n",
       "    .dataframe tbody tr th {\n",
       "        vertical-align: top;\n",
       "    }\n",
       "\n",
       "    .dataframe thead th {\n",
       "        text-align: right;\n",
       "    }\n",
       "</style>\n",
       "<table border=\"1\" class=\"dataframe\">\n",
       "  <thead>\n",
       "    <tr style=\"text-align: right;\">\n",
       "      <th></th>\n",
       "      <th>Black</th>\n",
       "      <th>Other</th>\n",
       "      <th>White</th>\n",
       "    </tr>\n",
       "  </thead>\n",
       "  <tbody>\n",
       "    <tr>\n",
       "      <th>0</th>\n",
       "      <td>0</td>\n",
       "      <td>0</td>\n",
       "      <td>1</td>\n",
       "    </tr>\n",
       "    <tr>\n",
       "      <th>1</th>\n",
       "      <td>0</td>\n",
       "      <td>0</td>\n",
       "      <td>1</td>\n",
       "    </tr>\n",
       "    <tr>\n",
       "      <th>2</th>\n",
       "      <td>0</td>\n",
       "      <td>0</td>\n",
       "      <td>1</td>\n",
       "    </tr>\n",
       "    <tr>\n",
       "      <th>3</th>\n",
       "      <td>0</td>\n",
       "      <td>0</td>\n",
       "      <td>1</td>\n",
       "    </tr>\n",
       "    <tr>\n",
       "      <th>4</th>\n",
       "      <td>0</td>\n",
       "      <td>0</td>\n",
       "      <td>1</td>\n",
       "    </tr>\n",
       "  </tbody>\n",
       "</table>\n",
       "</div>"
      ],
      "text/plain": [
       "   Black  Other  White\n",
       "0      0      0      1\n",
       "1      0      0      1\n",
       "2      0      0      1\n",
       "3      0      0      1\n",
       "4      0      0      1"
      ]
     },
     "execution_count": 5,
     "metadata": {},
     "output_type": "execute_result"
    }
   ],
   "source": [
    "race_encoded = pd.get_dummies(df[\"Race\"])\n",
    "race_encoded.head()"
   ]
  },
  {
   "cell_type": "markdown",
   "id": "bff61009",
   "metadata": {},
   "source": [
    "### Feature: Marital Status"
   ]
  },
  {
   "cell_type": "code",
   "execution_count": 6,
   "id": "ec62cfeb",
   "metadata": {},
   "outputs": [
    {
     "name": "stdout",
     "output_type": "stream",
     "text": [
      "['Married' 'Divorced' 'Single ' 'Widowed' 'Separated']\n"
     ]
    }
   ],
   "source": [
    "print(df[\"Marital Status\"].unique())"
   ]
  },
  {
   "cell_type": "code",
   "execution_count": 7,
   "id": "f09d5124",
   "metadata": {},
   "outputs": [
    {
     "data": {
      "text/plain": [
       "Status  Marital Status\n",
       "Alive   Married           2285\n",
       "        Single             511\n",
       "        Divorced           396\n",
       "        Widowed            186\n",
       "        Separated           30\n",
       "Dead    Married            358\n",
       "        Single             104\n",
       "        Divorced            90\n",
       "        Widowed             49\n",
       "        Separated           15\n",
       "Name: Marital Status, dtype: int64"
      ]
     },
     "execution_count": 7,
     "metadata": {},
     "output_type": "execute_result"
    }
   ],
   "source": [
    "df.groupby(\"Status\")[\"Marital Status\"].value_counts()"
   ]
  },
  {
   "cell_type": "markdown",
   "id": "d9933a9d",
   "metadata": {},
   "source": [
    "* Since we don't have that much samples of Widowed and Seperated, we can gather them under Divorced to keep the model simpler"
   ]
  },
  {
   "cell_type": "code",
   "execution_count": 8,
   "id": "cfdf50df",
   "metadata": {},
   "outputs": [
    {
     "data": {
      "text/plain": [
       "Status  Marital Status\n",
       "Alive   Married           2285\n",
       "        Divorced           612\n",
       "        Single             511\n",
       "Dead    Married            358\n",
       "        Divorced           154\n",
       "        Single             104\n",
       "Name: Marital Status, dtype: int64"
      ]
     },
     "execution_count": 8,
     "metadata": {},
     "output_type": "execute_result"
    }
   ],
   "source": [
    "df[\"Marital Status\"] = [\"Divorced\" if x in [\"Widowed\",\"Separated\"] else x for x in df[\"Marital Status\"]]\n",
    "\n",
    "df.groupby(\"Status\")[\"Marital Status\"].value_counts()"
   ]
  },
  {
   "cell_type": "code",
   "execution_count": 9,
   "id": "2019c1b7",
   "metadata": {},
   "outputs": [
    {
     "data": {
      "text/html": [
       "<div>\n",
       "<style scoped>\n",
       "    .dataframe tbody tr th:only-of-type {\n",
       "        vertical-align: middle;\n",
       "    }\n",
       "\n",
       "    .dataframe tbody tr th {\n",
       "        vertical-align: top;\n",
       "    }\n",
       "\n",
       "    .dataframe thead th {\n",
       "        text-align: right;\n",
       "    }\n",
       "</style>\n",
       "<table border=\"1\" class=\"dataframe\">\n",
       "  <thead>\n",
       "    <tr style=\"text-align: right;\">\n",
       "      <th></th>\n",
       "      <th>Divorced</th>\n",
       "      <th>Married</th>\n",
       "      <th>Single</th>\n",
       "    </tr>\n",
       "  </thead>\n",
       "  <tbody>\n",
       "    <tr>\n",
       "      <th>0</th>\n",
       "      <td>0</td>\n",
       "      <td>1</td>\n",
       "      <td>0</td>\n",
       "    </tr>\n",
       "    <tr>\n",
       "      <th>1</th>\n",
       "      <td>0</td>\n",
       "      <td>1</td>\n",
       "      <td>0</td>\n",
       "    </tr>\n",
       "    <tr>\n",
       "      <th>2</th>\n",
       "      <td>1</td>\n",
       "      <td>0</td>\n",
       "      <td>0</td>\n",
       "    </tr>\n",
       "    <tr>\n",
       "      <th>3</th>\n",
       "      <td>0</td>\n",
       "      <td>1</td>\n",
       "      <td>0</td>\n",
       "    </tr>\n",
       "    <tr>\n",
       "      <th>4</th>\n",
       "      <td>0</td>\n",
       "      <td>1</td>\n",
       "      <td>0</td>\n",
       "    </tr>\n",
       "  </tbody>\n",
       "</table>\n",
       "</div>"
      ],
      "text/plain": [
       "   Divorced  Married  Single \n",
       "0         0        1        0\n",
       "1         0        1        0\n",
       "2         1        0        0\n",
       "3         0        1        0\n",
       "4         0        1        0"
      ]
     },
     "execution_count": 9,
     "metadata": {},
     "output_type": "execute_result"
    }
   ],
   "source": [
    "marital_status_encoded = pd.get_dummies(df[\"Marital Status\"])\n",
    "marital_status_encoded.head()"
   ]
  },
  {
   "cell_type": "markdown",
   "id": "a164e729",
   "metadata": {},
   "source": [
    "### Feature: T Stage"
   ]
  },
  {
   "cell_type": "code",
   "execution_count": 10,
   "id": "d36a752b",
   "metadata": {},
   "outputs": [
    {
     "name": "stdout",
     "output_type": "stream",
     "text": [
      "['T1' 'T2' 'T3' 'T4']\n"
     ]
    }
   ],
   "source": [
    "print(df[\"T Stage \"].unique())"
   ]
  },
  {
   "cell_type": "code",
   "execution_count": 11,
   "id": "a4b088f1",
   "metadata": {},
   "outputs": [
    {
     "data": {
      "text/html": [
       "<div>\n",
       "<style scoped>\n",
       "    .dataframe tbody tr th:only-of-type {\n",
       "        vertical-align: middle;\n",
       "    }\n",
       "\n",
       "    .dataframe tbody tr th {\n",
       "        vertical-align: top;\n",
       "    }\n",
       "\n",
       "    .dataframe thead th {\n",
       "        text-align: right;\n",
       "    }\n",
       "</style>\n",
       "<table border=\"1\" class=\"dataframe\">\n",
       "  <thead>\n",
       "    <tr style=\"text-align: right;\">\n",
       "      <th></th>\n",
       "      <th>T1</th>\n",
       "      <th>T2</th>\n",
       "      <th>T3</th>\n",
       "      <th>T4</th>\n",
       "    </tr>\n",
       "  </thead>\n",
       "  <tbody>\n",
       "    <tr>\n",
       "      <th>0</th>\n",
       "      <td>1</td>\n",
       "      <td>0</td>\n",
       "      <td>0</td>\n",
       "      <td>0</td>\n",
       "    </tr>\n",
       "    <tr>\n",
       "      <th>1</th>\n",
       "      <td>0</td>\n",
       "      <td>1</td>\n",
       "      <td>0</td>\n",
       "      <td>0</td>\n",
       "    </tr>\n",
       "    <tr>\n",
       "      <th>2</th>\n",
       "      <td>0</td>\n",
       "      <td>0</td>\n",
       "      <td>1</td>\n",
       "      <td>0</td>\n",
       "    </tr>\n",
       "    <tr>\n",
       "      <th>3</th>\n",
       "      <td>1</td>\n",
       "      <td>0</td>\n",
       "      <td>0</td>\n",
       "      <td>0</td>\n",
       "    </tr>\n",
       "    <tr>\n",
       "      <th>4</th>\n",
       "      <td>0</td>\n",
       "      <td>1</td>\n",
       "      <td>0</td>\n",
       "      <td>0</td>\n",
       "    </tr>\n",
       "  </tbody>\n",
       "</table>\n",
       "</div>"
      ],
      "text/plain": [
       "   T1  T2  T3  T4\n",
       "0   1   0   0   0\n",
       "1   0   1   0   0\n",
       "2   0   0   1   0\n",
       "3   1   0   0   0\n",
       "4   0   1   0   0"
      ]
     },
     "execution_count": 11,
     "metadata": {},
     "output_type": "execute_result"
    }
   ],
   "source": [
    "t_stage_encoded = pd.get_dummies(df[\"T Stage \"])\n",
    "t_stage_encoded.head()"
   ]
  },
  {
   "cell_type": "markdown",
   "id": "6d9266ee",
   "metadata": {},
   "source": [
    "### Feature: N Stage"
   ]
  },
  {
   "cell_type": "code",
   "execution_count": 12,
   "id": "4ba1f03c",
   "metadata": {},
   "outputs": [
    {
     "name": "stdout",
     "output_type": "stream",
     "text": [
      "['N1' 'N2' 'N3']\n"
     ]
    }
   ],
   "source": [
    "print(df[\"N Stage\"].unique())"
   ]
  },
  {
   "cell_type": "code",
   "execution_count": 13,
   "id": "eec5b9a2",
   "metadata": {},
   "outputs": [
    {
     "data": {
      "text/html": [
       "<div>\n",
       "<style scoped>\n",
       "    .dataframe tbody tr th:only-of-type {\n",
       "        vertical-align: middle;\n",
       "    }\n",
       "\n",
       "    .dataframe tbody tr th {\n",
       "        vertical-align: top;\n",
       "    }\n",
       "\n",
       "    .dataframe thead th {\n",
       "        text-align: right;\n",
       "    }\n",
       "</style>\n",
       "<table border=\"1\" class=\"dataframe\">\n",
       "  <thead>\n",
       "    <tr style=\"text-align: right;\">\n",
       "      <th></th>\n",
       "      <th>N1</th>\n",
       "      <th>N2</th>\n",
       "      <th>N3</th>\n",
       "    </tr>\n",
       "  </thead>\n",
       "  <tbody>\n",
       "    <tr>\n",
       "      <th>0</th>\n",
       "      <td>1</td>\n",
       "      <td>0</td>\n",
       "      <td>0</td>\n",
       "    </tr>\n",
       "    <tr>\n",
       "      <th>1</th>\n",
       "      <td>0</td>\n",
       "      <td>1</td>\n",
       "      <td>0</td>\n",
       "    </tr>\n",
       "    <tr>\n",
       "      <th>2</th>\n",
       "      <td>0</td>\n",
       "      <td>0</td>\n",
       "      <td>1</td>\n",
       "    </tr>\n",
       "    <tr>\n",
       "      <th>3</th>\n",
       "      <td>1</td>\n",
       "      <td>0</td>\n",
       "      <td>0</td>\n",
       "    </tr>\n",
       "    <tr>\n",
       "      <th>4</th>\n",
       "      <td>1</td>\n",
       "      <td>0</td>\n",
       "      <td>0</td>\n",
       "    </tr>\n",
       "  </tbody>\n",
       "</table>\n",
       "</div>"
      ],
      "text/plain": [
       "   N1  N2  N3\n",
       "0   1   0   0\n",
       "1   0   1   0\n",
       "2   0   0   1\n",
       "3   1   0   0\n",
       "4   1   0   0"
      ]
     },
     "execution_count": 13,
     "metadata": {},
     "output_type": "execute_result"
    }
   ],
   "source": [
    "n_stage_encoded = pd.get_dummies(df[\"N Stage\"])\n",
    "n_stage_encoded.head()"
   ]
  },
  {
   "cell_type": "markdown",
   "id": "c5bce835",
   "metadata": {},
   "source": [
    "### Feature: 6th Stage"
   ]
  },
  {
   "cell_type": "code",
   "execution_count": 14,
   "id": "4131c977",
   "metadata": {},
   "outputs": [
    {
     "name": "stdout",
     "output_type": "stream",
     "text": [
      "['IIA' 'IIIA' 'IIIC' 'IIB' 'IIIB']\n"
     ]
    }
   ],
   "source": [
    "print(df[\"6th Stage\"].unique())"
   ]
  },
  {
   "cell_type": "code",
   "execution_count": 15,
   "id": "9258005b",
   "metadata": {},
   "outputs": [
    {
     "data": {
      "text/html": [
       "<div>\n",
       "<style scoped>\n",
       "    .dataframe tbody tr th:only-of-type {\n",
       "        vertical-align: middle;\n",
       "    }\n",
       "\n",
       "    .dataframe tbody tr th {\n",
       "        vertical-align: top;\n",
       "    }\n",
       "\n",
       "    .dataframe thead th {\n",
       "        text-align: right;\n",
       "    }\n",
       "</style>\n",
       "<table border=\"1\" class=\"dataframe\">\n",
       "  <thead>\n",
       "    <tr style=\"text-align: right;\">\n",
       "      <th></th>\n",
       "      <th>IIA</th>\n",
       "      <th>IIB</th>\n",
       "      <th>IIIA</th>\n",
       "      <th>IIIB</th>\n",
       "      <th>IIIC</th>\n",
       "    </tr>\n",
       "  </thead>\n",
       "  <tbody>\n",
       "    <tr>\n",
       "      <th>0</th>\n",
       "      <td>1</td>\n",
       "      <td>0</td>\n",
       "      <td>0</td>\n",
       "      <td>0</td>\n",
       "      <td>0</td>\n",
       "    </tr>\n",
       "    <tr>\n",
       "      <th>1</th>\n",
       "      <td>0</td>\n",
       "      <td>0</td>\n",
       "      <td>1</td>\n",
       "      <td>0</td>\n",
       "      <td>0</td>\n",
       "    </tr>\n",
       "    <tr>\n",
       "      <th>2</th>\n",
       "      <td>0</td>\n",
       "      <td>0</td>\n",
       "      <td>0</td>\n",
       "      <td>0</td>\n",
       "      <td>1</td>\n",
       "    </tr>\n",
       "    <tr>\n",
       "      <th>3</th>\n",
       "      <td>1</td>\n",
       "      <td>0</td>\n",
       "      <td>0</td>\n",
       "      <td>0</td>\n",
       "      <td>0</td>\n",
       "    </tr>\n",
       "    <tr>\n",
       "      <th>4</th>\n",
       "      <td>0</td>\n",
       "      <td>1</td>\n",
       "      <td>0</td>\n",
       "      <td>0</td>\n",
       "      <td>0</td>\n",
       "    </tr>\n",
       "  </tbody>\n",
       "</table>\n",
       "</div>"
      ],
      "text/plain": [
       "   IIA  IIB  IIIA  IIIB  IIIC\n",
       "0    1    0     0     0     0\n",
       "1    0    0     1     0     0\n",
       "2    0    0     0     0     1\n",
       "3    1    0     0     0     0\n",
       "4    0    1     0     0     0"
      ]
     },
     "execution_count": 15,
     "metadata": {},
     "output_type": "execute_result"
    }
   ],
   "source": [
    "sixth_stage_encoded = pd.get_dummies(df[\"6th Stage\"])\n",
    "sixth_stage_encoded.head()"
   ]
  },
  {
   "cell_type": "markdown",
   "id": "446f5ce2",
   "metadata": {},
   "source": [
    "### Feature: differentiate"
   ]
  },
  {
   "cell_type": "code",
   "execution_count": 16,
   "id": "661d9338",
   "metadata": {},
   "outputs": [
    {
     "name": "stdout",
     "output_type": "stream",
     "text": [
      "['Poorly differentiated' 'Moderately differentiated' 'Well differentiated'\n",
      " 'Undifferentiated']\n"
     ]
    }
   ],
   "source": [
    "print(df[\"differentiate\"].unique())"
   ]
  },
  {
   "cell_type": "code",
   "execution_count": 17,
   "id": "e37caedb",
   "metadata": {},
   "outputs": [
    {
     "data": {
      "text/plain": [
       "Status  differentiate            \n",
       "Alive   Moderately differentiated    2046\n",
       "        Poorly differentiated         848\n",
       "        Well differentiated           504\n",
       "        Undifferentiated               10\n",
       "Dead    Moderately differentiated     305\n",
       "        Poorly differentiated         263\n",
       "        Well differentiated            39\n",
       "        Undifferentiated                9\n",
       "Name: differentiate, dtype: int64"
      ]
     },
     "execution_count": 17,
     "metadata": {},
     "output_type": "execute_result"
    }
   ],
   "source": [
    "df.groupby(\"Status\")[\"differentiate\"].value_counts()"
   ]
  },
  {
   "cell_type": "code",
   "execution_count": 18,
   "id": "19c0e0a7",
   "metadata": {},
   "outputs": [
    {
     "data": {
      "text/html": [
       "<div>\n",
       "<style scoped>\n",
       "    .dataframe tbody tr th:only-of-type {\n",
       "        vertical-align: middle;\n",
       "    }\n",
       "\n",
       "    .dataframe tbody tr th {\n",
       "        vertical-align: top;\n",
       "    }\n",
       "\n",
       "    .dataframe thead th {\n",
       "        text-align: right;\n",
       "    }\n",
       "</style>\n",
       "<table border=\"1\" class=\"dataframe\">\n",
       "  <thead>\n",
       "    <tr style=\"text-align: right;\">\n",
       "      <th></th>\n",
       "      <th>Moderately differentiated</th>\n",
       "      <th>Poorly differentiated</th>\n",
       "      <th>Undifferentiated</th>\n",
       "      <th>Well differentiated</th>\n",
       "    </tr>\n",
       "  </thead>\n",
       "  <tbody>\n",
       "    <tr>\n",
       "      <th>0</th>\n",
       "      <td>0</td>\n",
       "      <td>1</td>\n",
       "      <td>0</td>\n",
       "      <td>0</td>\n",
       "    </tr>\n",
       "    <tr>\n",
       "      <th>1</th>\n",
       "      <td>1</td>\n",
       "      <td>0</td>\n",
       "      <td>0</td>\n",
       "      <td>0</td>\n",
       "    </tr>\n",
       "    <tr>\n",
       "      <th>2</th>\n",
       "      <td>1</td>\n",
       "      <td>0</td>\n",
       "      <td>0</td>\n",
       "      <td>0</td>\n",
       "    </tr>\n",
       "    <tr>\n",
       "      <th>3</th>\n",
       "      <td>0</td>\n",
       "      <td>1</td>\n",
       "      <td>0</td>\n",
       "      <td>0</td>\n",
       "    </tr>\n",
       "    <tr>\n",
       "      <th>4</th>\n",
       "      <td>0</td>\n",
       "      <td>1</td>\n",
       "      <td>0</td>\n",
       "      <td>0</td>\n",
       "    </tr>\n",
       "  </tbody>\n",
       "</table>\n",
       "</div>"
      ],
      "text/plain": [
       "   Moderately differentiated  Poorly differentiated  Undifferentiated  \\\n",
       "0                          0                      1                 0   \n",
       "1                          1                      0                 0   \n",
       "2                          1                      0                 0   \n",
       "3                          0                      1                 0   \n",
       "4                          0                      1                 0   \n",
       "\n",
       "   Well differentiated  \n",
       "0                    0  \n",
       "1                    0  \n",
       "2                    0  \n",
       "3                    0  \n",
       "4                    0  "
      ]
     },
     "execution_count": 18,
     "metadata": {},
     "output_type": "execute_result"
    }
   ],
   "source": [
    "differentiate_encoded = pd.get_dummies(df[\"differentiate\"])\n",
    "differentiate_encoded.head()"
   ]
  },
  {
   "cell_type": "markdown",
   "id": "ebd305bd",
   "metadata": {},
   "source": [
    "### Feature: Grade"
   ]
  },
  {
   "cell_type": "code",
   "execution_count": 19,
   "id": "4030583b",
   "metadata": {},
   "outputs": [
    {
     "name": "stdout",
     "output_type": "stream",
     "text": [
      "['3' '2' '1' ' anaplastic; Grade IV']\n"
     ]
    }
   ],
   "source": [
    "print(df[\"Grade\"].unique())"
   ]
  },
  {
   "cell_type": "code",
   "execution_count": 20,
   "id": "4e8264dc",
   "metadata": {},
   "outputs": [
    {
     "data": {
      "text/html": [
       "<div>\n",
       "<style scoped>\n",
       "    .dataframe tbody tr th:only-of-type {\n",
       "        vertical-align: middle;\n",
       "    }\n",
       "\n",
       "    .dataframe tbody tr th {\n",
       "        vertical-align: top;\n",
       "    }\n",
       "\n",
       "    .dataframe thead th {\n",
       "        text-align: right;\n",
       "    }\n",
       "</style>\n",
       "<table border=\"1\" class=\"dataframe\">\n",
       "  <thead>\n",
       "    <tr style=\"text-align: right;\">\n",
       "      <th></th>\n",
       "      <th>1</th>\n",
       "      <th>2</th>\n",
       "      <th>3</th>\n",
       "      <th>4</th>\n",
       "    </tr>\n",
       "  </thead>\n",
       "  <tbody>\n",
       "    <tr>\n",
       "      <th>0</th>\n",
       "      <td>0</td>\n",
       "      <td>0</td>\n",
       "      <td>1</td>\n",
       "      <td>0</td>\n",
       "    </tr>\n",
       "    <tr>\n",
       "      <th>1</th>\n",
       "      <td>0</td>\n",
       "      <td>1</td>\n",
       "      <td>0</td>\n",
       "      <td>0</td>\n",
       "    </tr>\n",
       "    <tr>\n",
       "      <th>2</th>\n",
       "      <td>0</td>\n",
       "      <td>1</td>\n",
       "      <td>0</td>\n",
       "      <td>0</td>\n",
       "    </tr>\n",
       "    <tr>\n",
       "      <th>3</th>\n",
       "      <td>0</td>\n",
       "      <td>0</td>\n",
       "      <td>1</td>\n",
       "      <td>0</td>\n",
       "    </tr>\n",
       "    <tr>\n",
       "      <th>4</th>\n",
       "      <td>0</td>\n",
       "      <td>0</td>\n",
       "      <td>1</td>\n",
       "      <td>0</td>\n",
       "    </tr>\n",
       "  </tbody>\n",
       "</table>\n",
       "</div>"
      ],
      "text/plain": [
       "   1  2  3  4\n",
       "0  0  0  1  0\n",
       "1  0  1  0  0\n",
       "2  0  1  0  0\n",
       "3  0  0  1  0\n",
       "4  0  0  1  0"
      ]
     },
     "execution_count": 20,
     "metadata": {},
     "output_type": "execute_result"
    }
   ],
   "source": [
    "df[\"Grade\"] = [\"4\" if x == \" anaplastic; Grade IV\" else x for x in df[\"Grade\"]]\n",
    "\n",
    "grade_encoded = pd.get_dummies(df[\"Grade\"])\n",
    "grade_encoded.head()"
   ]
  },
  {
   "cell_type": "markdown",
   "id": "20b405eb",
   "metadata": {},
   "source": [
    "### Feature: A Stage"
   ]
  },
  {
   "cell_type": "code",
   "execution_count": 21,
   "id": "f977facf",
   "metadata": {},
   "outputs": [
    {
     "name": "stdout",
     "output_type": "stream",
     "text": [
      "['Regional' 'Distant']\n"
     ]
    }
   ],
   "source": [
    "print(df[\"A Stage\"].unique())"
   ]
  },
  {
   "cell_type": "code",
   "execution_count": 22,
   "id": "424ad0c1",
   "metadata": {},
   "outputs": [
    {
     "data": {
      "text/plain": [
       "Regional    3932\n",
       "Distant       92\n",
       "Name: A Stage, dtype: int64"
      ]
     },
     "execution_count": 22,
     "metadata": {},
     "output_type": "execute_result"
    }
   ],
   "source": [
    "df[\"A Stage\"].value_counts()"
   ]
  },
  {
   "cell_type": "code",
   "execution_count": 23,
   "id": "78852b76",
   "metadata": {},
   "outputs": [
    {
     "data": {
      "text/plain": [
       "0    3932\n",
       "1      92\n",
       "dtype: int64"
      ]
     },
     "execution_count": 23,
     "metadata": {},
     "output_type": "execute_result"
    }
   ],
   "source": [
    "a_stage_encoded = pd.Series([0 if x==\"Regional\" else 1 for x in df[\"A Stage\"]])\n",
    "a_stage_encoded.value_counts()"
   ]
  },
  {
   "cell_type": "markdown",
   "id": "b83d2856",
   "metadata": {},
   "source": [
    "### Features: Estrogen Status and Progesterone Status"
   ]
  },
  {
   "cell_type": "code",
   "execution_count": 24,
   "id": "06910fae",
   "metadata": {},
   "outputs": [
    {
     "name": "stdout",
     "output_type": "stream",
     "text": [
      "['Positive' 'Negative']\n"
     ]
    }
   ],
   "source": [
    "print(df[\"Estrogen Status\"].unique())"
   ]
  },
  {
   "cell_type": "code",
   "execution_count": 25,
   "id": "84ab0cf8",
   "metadata": {},
   "outputs": [
    {
     "name": "stdout",
     "output_type": "stream",
     "text": [
      "['Positive' 'Negative']\n"
     ]
    }
   ],
   "source": [
    "print(df[\"Progesterone Status\"].unique())"
   ]
  },
  {
   "cell_type": "code",
   "execution_count": 26,
   "id": "274839e4",
   "metadata": {},
   "outputs": [],
   "source": [
    "estrogen_status_encoded = pd.Series([1 if x==\"Positive\" else 0 for x in df[\"Estrogen Status\"]])\n",
    "progesterone_status_encoded = pd.Series([1 if x==\"Positive\" else 0 for x in df[\"Progesterone Status\"]])"
   ]
  },
  {
   "cell_type": "code",
   "execution_count": 27,
   "id": "25bf04c8",
   "metadata": {},
   "outputs": [
    {
     "name": "stdout",
     "output_type": "stream",
     "text": [
      "<class 'pandas.core.frame.DataFrame'>\n",
      "RangeIndex: 4024 entries, 0 to 4023\n",
      "Data columns (total 29 columns):\n",
      " #   Column                     Non-Null Count  Dtype\n",
      "---  ------                     --------------  -----\n",
      " 0   Black                      4024 non-null   uint8\n",
      " 1   Other                      4024 non-null   uint8\n",
      " 2   White                      4024 non-null   uint8\n",
      " 3   Divorced                   4024 non-null   uint8\n",
      " 4   Married                    4024 non-null   uint8\n",
      " 5   Single                     4024 non-null   uint8\n",
      " 6   T1                         4024 non-null   uint8\n",
      " 7   T2                         4024 non-null   uint8\n",
      " 8   T3                         4024 non-null   uint8\n",
      " 9   T4                         4024 non-null   uint8\n",
      " 10  N1                         4024 non-null   uint8\n",
      " 11  N2                         4024 non-null   uint8\n",
      " 12  N3                         4024 non-null   uint8\n",
      " 13  IIA                        4024 non-null   uint8\n",
      " 14  IIB                        4024 non-null   uint8\n",
      " 15  IIIA                       4024 non-null   uint8\n",
      " 16  IIIB                       4024 non-null   uint8\n",
      " 17  IIIC                       4024 non-null   uint8\n",
      " 18  Moderately differentiated  4024 non-null   uint8\n",
      " 19  Poorly differentiated      4024 non-null   uint8\n",
      " 20  Undifferentiated           4024 non-null   uint8\n",
      " 21  Well differentiated        4024 non-null   uint8\n",
      " 22  1                          4024 non-null   uint8\n",
      " 23  2                          4024 non-null   uint8\n",
      " 24  3                          4024 non-null   uint8\n",
      " 25  4                          4024 non-null   uint8\n",
      " 26  0                          4024 non-null   int64\n",
      " 27  1                          4024 non-null   int64\n",
      " 28  2                          4024 non-null   int64\n",
      "dtypes: int64(3), uint8(26)\n",
      "memory usage: 196.6 KB\n"
     ]
    }
   ],
   "source": [
    "df_categorical_encoded = pd.concat([race_encoded,\n",
    "                                    marital_status_encoded,\n",
    "                                    t_stage_encoded,\n",
    "                                    n_stage_encoded,\n",
    "                                    sixth_stage_encoded,\n",
    "                                    differentiate_encoded,\n",
    "                                    grade_encoded,\n",
    "                                    a_stage_encoded,\n",
    "                                    estrogen_status_encoded,\n",
    "                                    progesterone_status_encoded\n",
    "                                   ], axis=1)\n",
    "\n",
    "df_categorical_encoded.info()"
   ]
  },
  {
   "cell_type": "code",
   "execution_count": 28,
   "id": "cf97254c",
   "metadata": {},
   "outputs": [
    {
     "data": {
      "text/html": [
       "<div>\n",
       "<style scoped>\n",
       "    .dataframe tbody tr th:only-of-type {\n",
       "        vertical-align: middle;\n",
       "    }\n",
       "\n",
       "    .dataframe tbody tr th {\n",
       "        vertical-align: top;\n",
       "    }\n",
       "\n",
       "    .dataframe thead th {\n",
       "        text-align: right;\n",
       "    }\n",
       "</style>\n",
       "<table border=\"1\" class=\"dataframe\">\n",
       "  <thead>\n",
       "    <tr style=\"text-align: right;\">\n",
       "      <th></th>\n",
       "      <th>Age</th>\n",
       "      <th>Tumor Size</th>\n",
       "      <th>Regional Node Examined</th>\n",
       "      <th>Reginol Node Positive</th>\n",
       "      <th>Survival Months</th>\n",
       "    </tr>\n",
       "  </thead>\n",
       "  <tbody>\n",
       "    <tr>\n",
       "      <th>0</th>\n",
       "      <td>68</td>\n",
       "      <td>4</td>\n",
       "      <td>24</td>\n",
       "      <td>1</td>\n",
       "      <td>60</td>\n",
       "    </tr>\n",
       "    <tr>\n",
       "      <th>1</th>\n",
       "      <td>50</td>\n",
       "      <td>35</td>\n",
       "      <td>14</td>\n",
       "      <td>5</td>\n",
       "      <td>62</td>\n",
       "    </tr>\n",
       "    <tr>\n",
       "      <th>2</th>\n",
       "      <td>58</td>\n",
       "      <td>63</td>\n",
       "      <td>14</td>\n",
       "      <td>7</td>\n",
       "      <td>75</td>\n",
       "    </tr>\n",
       "    <tr>\n",
       "      <th>3</th>\n",
       "      <td>58</td>\n",
       "      <td>18</td>\n",
       "      <td>2</td>\n",
       "      <td>1</td>\n",
       "      <td>84</td>\n",
       "    </tr>\n",
       "    <tr>\n",
       "      <th>4</th>\n",
       "      <td>47</td>\n",
       "      <td>41</td>\n",
       "      <td>3</td>\n",
       "      <td>1</td>\n",
       "      <td>50</td>\n",
       "    </tr>\n",
       "  </tbody>\n",
       "</table>\n",
       "</div>"
      ],
      "text/plain": [
       "   Age  Tumor Size  Regional Node Examined  Reginol Node Positive  \\\n",
       "0   68           4                      24                      1   \n",
       "1   50          35                      14                      5   \n",
       "2   58          63                      14                      7   \n",
       "3   58          18                       2                      1   \n",
       "4   47          41                       3                      1   \n",
       "\n",
       "   Survival Months  \n",
       "0               60  \n",
       "1               62  \n",
       "2               75  \n",
       "3               84  \n",
       "4               50  "
      ]
     },
     "execution_count": 28,
     "metadata": {},
     "output_type": "execute_result"
    }
   ],
   "source": [
    "df_numerical = df.loc[:,[\"Age\",\"Tumor Size\",\"Regional Node Examined\",\"Reginol Node Positive\",\"Survival Months\"]]\n",
    "df_numerical.head()"
   ]
  },
  {
   "cell_type": "code",
   "execution_count": 29,
   "id": "24a95fda",
   "metadata": {},
   "outputs": [
    {
     "data": {
      "text/plain": [
       "0    1\n",
       "1    1\n",
       "2    1\n",
       "3    1\n",
       "4    1\n",
       "dtype: int64"
      ]
     },
     "execution_count": 29,
     "metadata": {},
     "output_type": "execute_result"
    }
   ],
   "source": [
    "target_feature = pd.Series([1 if x==\"Alive\" else 0 for x in df[\"Status\"]])\n",
    "target_feature.head()"
   ]
  },
  {
   "cell_type": "markdown",
   "id": "8cd596e1",
   "metadata": {},
   "source": [
    "* Now we can create X and y numpy arrays and split our data as train, test and cross validation sets."
   ]
  },
  {
   "cell_type": "code",
   "execution_count": 30,
   "id": "088b0609",
   "metadata": {},
   "outputs": [
    {
     "name": "stdout",
     "output_type": "stream",
     "text": [
      "Shape of X: (4024, 34)\n",
      "Shape of y: (4024,)\n"
     ]
    }
   ],
   "source": [
    "X = pd.concat([df_numerical,df_categorical_encoded],axis=1).to_numpy()\n",
    "y = target_feature.to_numpy()\n",
    "\n",
    "print(\"Shape of X:\",X.shape)\n",
    "print(\"Shape of y:\",y.shape)"
   ]
  },
  {
   "cell_type": "code",
   "execution_count": 31,
   "id": "de6b447d",
   "metadata": {},
   "outputs": [],
   "source": [
    "def train_test_split(X,y,test_size=0.3,random_state=None):\n",
    "    \n",
    "    if random_state is not None:\n",
    "        np.random.seed(random_state)\n",
    "    \n",
    "    num_samples = X.shape[0]\n",
    "    \n",
    "    test_samples = int(num_samples * test_size)\n",
    "    \n",
    "    shuffled_indices = np.random.permutation(np.arange(num_samples))\n",
    "    \n",
    "    test_indices = shuffled_indices[:test_samples]\n",
    "    train_indices = shuffled_indices[test_samples:]\n",
    "    \n",
    "    X_train,X_test = X[train_indices],X[test_indices]\n",
    "    y_train,y_test = y[train_indices],y[test_indices]\n",
    "    return X_train,X_test,y_train,y_test\n"
   ]
  },
  {
   "cell_type": "code",
   "execution_count": 32,
   "id": "6a1370e0",
   "metadata": {},
   "outputs": [
    {
     "name": "stdout",
     "output_type": "stream",
     "text": [
      "(2817, 34)\n",
      "(1207, 34)\n",
      "(2817,)\n",
      "(1207,)\n"
     ]
    }
   ],
   "source": [
    "X_train,X_test,y_train,y_test = train_test_split(X,y,test_size=0.3,random_state=42)\n",
    "\n",
    "print(X_train.shape)\n",
    "print(X_test.shape)\n",
    "print(y_train.shape)\n",
    "print(y_test.shape)"
   ]
  },
  {
   "cell_type": "markdown",
   "id": "cb466f8c",
   "metadata": {},
   "source": [
    "## 3. Decision Tree Modeling\n",
    "\n",
    "Let's take a look at a decision tree to understand how it works:\n",
    "\n",
    "![decision_tree_example](decision_tree_example.png)\n",
    "\n",
    "A decision tree has ***decision nodes*** that split the data and ***leaf nodes*** that do predictions. \n",
    "\n",
    "When we start from the ***root node*** (Node at the top of tree), we split the data by the condition. If conditions are met, we move the data to the right, else we move it to the left. \n",
    "\n",
    "* Let's say our sample has a Feature X value less than 0.5\n",
    "\n",
    "![decision_tree_points](decision_tree_points.png)\n",
    "\n",
    "We go until we bump into a leaf node, leaf node predicts us what class the sample belongs.\n",
    "\n",
    "![data_leaf_node](data_leaf_node.png)\n",
    "\n",
    "* Decision tree prediction is Alive!\n",
    "\n",
    "#### Some questions to understand decision trees:\n",
    "1. How did we decide what feature and threshold (conditon, as I said earlier) to use to split the data, like why did we use Feature X instead of Feature K?\n",
    "\n",
    "2. Why isn't our tree like this: \n",
    "\n",
    "![complex_tree](complex_tree.png)\n",
    "\n",
    "How do we decide how long our tree will be?"
   ]
  },
  {
   "cell_type": "markdown",
   "id": "97c2b12a",
   "metadata": {},
   "source": [
    "## 3.1 How did we decide what feature and threshold to use?\n",
    "\n",
    "While we train a decision tree, our goal is to split as good as possible. A good split is a pure one. Let's see two splits and understand a good split intuitively.\n",
    "\n",
    "\n",
    "Here is the first:\n",
    "![](better_dnode.png)\n",
    "\n",
    "\n",
    "Here is the second:\n",
    "![](worse_dnod.png)\n",
    "\n",
    "Green dots represent positive samples, red dots represent negative samples. Since the first decision node splits the data perfectly (both branches are ***pure***), we know that it's better than the latter.\n",
    "\n",
    "However let's see another example:\n",
    "\n",
    "![](dnode3.png)\n",
    "\n",
    "Since neither 2nd nor 3rd example is ***pure***, it's a little bit more confusing. If only there were a measurement of ***impurity***, so we could choose the less impure one. And luckily, there is!\n",
    "\n",
    "* We use entropy function to measure the impurity of a branch. Formula of the entropy is:\n",
    "\n",
    "<h3>$$H(p) = -p*log2(p) -(1-p)log2*(1-p) $$</h3>\n",
    "\n",
    "p is the fraction of positive samples\n",
    "\n",
    "<h3>$$ p = {positive\\over total}$$</h3>\n",
    "\n",
    "*Little note: There is also another way of measuring impurity called GINI impurity and most real life implementations are based on it.* \n",
    "\n",
    "So if we compute entropies of the second and third examples:\n",
    "\n",
    "* Third left: 0.8112781244591328\n",
    "* Third right: 0.7219280948873623\n",
    "* Second left: 1 (biggest value it can take, isn't it interesting?)\n",
    "* Second right: 0.9709505944546686\n",
    "\n",
    "As we can see, second decision node has bigger entropies, so it's worse than the third decision node. \n",
    "In order to compare two nodes directly, we use weighted entropy of branches. It's formula is\n",
    "\n",
    "<h3>$$ w_{left}H_{left} + w_{right}H_{right}$$</h3>\n",
    "\n",
    "Weights can be computes as:\n",
    "\n",
    "<h4>$$ w_{left} = {m_{left} \\over m_{total}} $$</h4>\n",
    "<h4>$$ w_{right} = {m_{right} \\over m_{total}} $$</h4>\n",
    "\n",
    "So if we compute weighted entropies of second and third nodes:\n",
    "\n",
    "* Third node: 0.7616392191414825\n",
    "* Second node: 0.9838614413637048\n",
    "\n",
    "Second node has a bigger ***impurity*** as we expected, so we should choose the third node since it's a better split"
   ]
  },
  {
   "cell_type": "markdown",
   "id": "75cc24de",
   "metadata": {},
   "source": [
    "#### Yey! Now we know how to choose a better split\n",
    "* So we can just iterate through features and thresholds, compute weighted entropies and choose the split that has the lowest entropy value!"
   ]
  },
  {
   "cell_type": "markdown",
   "id": "d0966920",
   "metadata": {},
   "source": [
    "## 3.2 How do we decide how long our tree will be\n",
    "\n",
    "So as we've seen earlier, our tree could've been this long:\n",
    "![decision_tree_example](decision_tree_example.png)\n",
    "\n",
    "Or we could've grown a way longer tree like this:\n",
    "\n",
    "![complex_tree](complex_tree.png)"
   ]
  },
  {
   "cell_type": "markdown",
   "id": "40998505",
   "metadata": {},
   "source": [
    "* So, how do we decide where to stop?\n",
    "\n",
    "Answer of this question is called ***stopping criteria*** in terminology. There are lots of stopping criteria, but let's mention some of them we'll use.\n",
    "\n",
    "1. We can determine a maximum length. Depth is the number of layers (except the layer that has root node) of the decision tree. The first example of 3.2 has 2 layers, so it's depth is 2. The latter's depth is 3.\n",
    "\n",
    "    * Main reason we want to set a maximum depth is mainly to prevent overfitting. If we make our tree longer, chances are model will have difficulty generalising data.\n",
    "    \n",
    "2. We can stop a node branching once all the samples in that branch belong to the same class (***pure***)\n",
    "\n",
    "3. We can stop a node branching if there are only a few examples remaining at that branch. This would also help us prevent overfitting!\n",
    "\n",
    "Here is the example of 2nd article:\n",
    "![](better_dnode.png)\n",
    "\n",
    "\n",
    "Don't worry if you didn't grasp all those concepts completely. They might be kind of complex to fully understand  only with a jupyter notebook. I highly recommend Andrew NG's Machine Learning Specialization Course 2, he explains decision trees perfectly.\n",
    "\n",
    "I'm pretty sure you'll have a solid understanding once we implement those concepts with Python, so let's start!"
   ]
  },
  {
   "cell_type": "markdown",
   "id": "3538eccd",
   "metadata": {},
   "source": [
    "## 3.3 Computing Entropy\n",
    "\n",
    "First, we'll start by implementing entropy and weighted entropy functions, which will later help us choosing which split is the best."
   ]
  },
  {
   "cell_type": "code",
   "execution_count": 33,
   "id": "7735638a",
   "metadata": {},
   "outputs": [],
   "source": [
    "def compute_entropy(y):\n",
    "    \"\"\"\n",
    "    Computes entropy\n",
    "    Args:\n",
    "    y (ndarray) (m,): labels of samples (either 1 or 0)\n",
    "    Returns:\n",
    "    entropy (float): entropy \n",
    "    \"\"\"\n",
    "     \n",
    "    if len(np.unique(y))==1 or len(y)==0:\n",
    "        # Impurity is at its lowest when there's only one class.\n",
    "        return 0\n",
    "    \n",
    "    fraction = np.sum((y == 1).astype(\"int\")) / len(y)\n",
    "    \n",
    "    entropy = -fraction * np.log2(fraction) -(1-fraction)* np.log2(1-fraction)\n",
    "    \n",
    "    return entropy\n"
   ]
  },
  {
   "cell_type": "markdown",
   "id": "3f241875",
   "metadata": {},
   "source": [
    "* When all samples belong to negative class, p is 1 and (1-p) is 0, and logarithm of 0 is undefined, same applies when all samples are postive as well, so we've added an if statement to handle this little problem. "
   ]
  },
  {
   "cell_type": "code",
   "execution_count": 34,
   "id": "09bd6930",
   "metadata": {},
   "outputs": [
    {
     "name": "stdout",
     "output_type": "stream",
     "text": [
      "7 positive 3 negative, entropy: 0.8812908992306927\n",
      "4 positive 6 negative, entropy: 0.9709505944546686\n",
      "6 positive 4 negative, entropy: 0.9709505944546686\n"
     ]
    }
   ],
   "source": [
    "# Let's plug some values\n",
    "\n",
    "# 7 positive 3 negative examples\n",
    "arr = np.array([1,1,1,1,1,1,1,0,0,0])\n",
    "print(\"7 positive 3 negative, entropy:\",compute_entropy(arr))\n",
    "\n",
    "# 4 positive 6 negative examples\n",
    "arr = np.array([1,1,1,1,0,0,0,0,0,0])\n",
    "print(\"4 positive 6 negative, entropy:\",compute_entropy(arr))\n",
    "\n",
    "# 6 positive 4 negative values\n",
    "arr = np.array([1,1,1,1,1,1,0,0,0,0])\n",
    "print(\"6 positive 4 negative, entropy:\",compute_entropy(arr))"
   ]
  },
  {
   "cell_type": "code",
   "execution_count": 35,
   "id": "22f8eae8",
   "metadata": {},
   "outputs": [],
   "source": [
    "def compute_weighted_entropy(X_left,X_right,y_left,y_right):\n",
    "    \"\"\"\n",
    "    Computes weighted entropy of a node\n",
    "    Args:\n",
    "    X_left, X_right (ndarray) (m,n): samples of left and right branch\n",
    "    y_left, y_right (ndarray) (m,) labels of samples of left and right branch\n",
    "    Returns:\n",
    "    weighted_entropy (float): weighted entropy\n",
    "    \"\"\"\n",
    "    \n",
    "    h_left = compute_entropy(y_left)\n",
    "    h_right = compute_entropy(y_right)\n",
    "    \n",
    "    w_left = len(X_left) / (len(X_left) + len(X_right))\n",
    "    w_right = len(X_right) / (len(X_left) + len(X_right))\n",
    "    \n",
    "    weighted_entropy = (w_left * h_left) + (w_right * h_right)\n",
    "    return weighted_entropy"
   ]
  },
  {
   "cell_type": "markdown",
   "id": "e447e3e1",
   "metadata": {},
   "source": [
    "* We'll test this function later!"
   ]
  },
  {
   "cell_type": "markdown",
   "id": "8062d823",
   "metadata": {},
   "source": [
    "## 3.4 Splitting Data and Finding The Best Split\n",
    "\n",
    "Since our goal is to find the best split for the current node, we'll define two functions. First function will split the data using given feature and threshold, the second function will use entropy and the first function to iterate through the features and find the best split.\n",
    "\n",
    "\n"
   ]
  },
  {
   "cell_type": "code",
   "execution_count": 36,
   "id": "cfeb9d1c",
   "metadata": {},
   "outputs": [],
   "source": [
    "def split_data(X,y,split_index,threshold):\n",
    "    \"\"\"\n",
    "    Splits the data by given feature index and threshold\n",
    "    Args:\n",
    "    X (ndarray) (m,n) m samples with n features\n",
    "    y (ndarray) (m,) labels of m samples\n",
    "    split_index (int) index of the feature\n",
    "    threshold (float) values bigger than this will be on the right, rest will be on the left branch\n",
    "    \n",
    "    Returns:\n",
    "    X_left,X_right\n",
    "    y_left,y_right\n",
    "    \"\"\"\n",
    "    \n",
    "    left_indices = np.where(X[:,split_index] <= threshold)[0]\n",
    "    right_indices = np.where(X[:,split_index] > threshold)[0]\n",
    "    \n",
    "\n",
    "    X_left,X_right = X[left_indices],X[right_indices]\n",
    "    y_left,y_right = y[left_indices],y[right_indices]\n",
    "\n",
    "    \n",
    "    return X_left,X_right,y_left,y_right\n",
    "    "
   ]
  },
  {
   "cell_type": "markdown",
   "id": "3d2b3229",
   "metadata": {},
   "source": [
    "* Before trying this one out, let's understand each line. Our function takes X,y, split_index and a threshold value.\n",
    "\n",
    "* Since we work with numpy arrays, we use indices of the features instead of their names, since we have 34 features, split_index can take values from 0 to 33.\n",
    "\n",
    "* If a sample is bigger than the threshold given, it'll be on the right branch, else it'll be on the left branch. `np.where()`gives us the indices where condition is met."
   ]
  },
  {
   "cell_type": "code",
   "execution_count": 37,
   "id": "25698ceb",
   "metadata": {},
   "outputs": [
    {
     "name": "stdout",
     "output_type": "stream",
     "text": [
      "Current entropy before splitting is: 0.6268524562017022\n",
      "If we set the root node as Age>30, weighted entropy is: 0.6264155045474873\n",
      "If we set the root node as Age>50, weighted entropy is: 0.6256740732554265\n"
     ]
    }
   ],
   "source": [
    "# Let's use age feature (index 0) with two thresholds and see which one would better as a root node.\n",
    "\n",
    "print(\"Current entropy before splitting is: {}\".format(compute_entropy(y_train)))\n",
    "\n",
    "ex_ent1 = compute_weighted_entropy(*split_data(X_train,y_train,0,30))\n",
    "print(\"If we set the root node as Age>30, weighted entropy is: {}\".format(ex_ent1))\n",
    "\n",
    "ex_ent2 = compute_weighted_entropy(*split_data(X_train,y_train,0,50))\n",
    "print(\"If we set the root node as Age>50, weighted entropy is: {}\".format(ex_ent2))"
   ]
  },
  {
   "cell_type": "markdown",
   "id": "0317d6f5",
   "metadata": {},
   "source": [
    "* As we can see, the current entropy is really close to the weighted entropies, so our splits doesn't seem good. But if we had to choose one, Age>50 has a lower entropy.\n",
    "\n",
    "\n",
    "Now let's implement the second function, this one might be a little bit confusing, but I'll explain it!"
   ]
  },
  {
   "cell_type": "code",
   "execution_count": 38,
   "id": "9387513e",
   "metadata": {},
   "outputs": [],
   "source": [
    "def compute_best_split(X,y,h_current):\n",
    "    \"\"\"\n",
    "    Given X and y, iterates through different features and different thresholds\n",
    "    and returns the split that maximises information gain\n",
    "    information_gain = H(root_node) - H_weighted(possible_split)\n",
    "    \n",
    "    Args:\n",
    "    X (ndarray) (m,n) m samples with n features \n",
    "    y (ndarray) (m,) labels of m samples\n",
    "    h_current (float): current entropy value of the node.\n",
    "    Returns:\n",
    "    best_split_index (int): index of the best feature\n",
    "    best_threshold (float): best threshold value for the chosen feature\n",
    "    \"\"\"\n",
    "    \n",
    "    feature_threshold = []\n",
    "    split_infgain = []\n",
    "    \n",
    "    m,n = X.shape\n",
    "    \n",
    "    # We're iterating through features\n",
    "    for j in range(n):\n",
    "        \n",
    "        X_j = X[:,j]\n",
    "        X_j_sorted = sorted(X_j)\n",
    "        \n",
    "        for i in range(len(X_j_sorted)-1):\n",
    "            \n",
    "            # This is the midpoint of two ordered values, can be used as a possible threhold\n",
    "            midpoint = X_j_sorted[i] + (X_j_sorted[i+1] - X_j_sorted[i]) / 2    \n",
    "            \n",
    "            # Splitting data using threshold\n",
    "            X_left,X_right,y_left,y_right = split_data(X,y,split_index=j,threshold=midpoint)\n",
    "            \n",
    "            # Computing weighted entropy and information gain\n",
    "            h_weighted = compute_weighted_entropy(X_left,X_right,y_left,y_right)\n",
    "            information_gain = h_current - h_weighted\n",
    "            \n",
    "            # Appending them to lists to find the biggest information gain\n",
    "            feature_threshold.append((j,midpoint))\n",
    "            split_infgain.append(information_gain)\n",
    "            \n",
    "    \n",
    "    best_split_index,best_threshold = feature_threshold[np.argmax(split_infgain)]\n",
    "    return int(best_split_index),float(best_threshold)"
   ]
  },
  {
   "cell_type": "markdown",
   "id": "93aac18a",
   "metadata": {},
   "source": [
    "* Now we see two new concepts in the code, ***midpoints as a threshold*** and ***information gain***. I'll start with the information gain since you already know what it is thanks to the previous example.\n",
    "\n",
    "In the previous example, we've said that weighted entropies of splits aren't that different than the current entropy of the node. This means that **information gain is low**, we don't actually get so much new information by splitting data that way.\n",
    "\n",
    "Formula of information gain is: <h3>$ IG = H_{current} - H_{split}$</h3>\n",
    "\n",
    "So when we compare splits, we'll chose one which has the biggest information gain. I know that you ask: but choosing the split with the lowest entropy is also the same thing practically, why do we compute information gain?\n",
    "\n",
    "You are right, it's not that important for our simple implementation, however we could've used information gain as a stopping criteria. Like we could say that we stop when the information gain is lower than 0.1\n",
    "\n",
    "\n",
    "* Now let's understand how can we use midpoints as thresholds.\n",
    "\n",
    "Say we have values:\n",
    "` 1 2 3 4 5`\n",
    "1. We can split them using the midpoint of 1 and 2 (1.5) as `1`and `2 3 4 5`\n",
    "2. We can also use the midpoint of 2 and 3 (2.5) as `1 2`and `3 4 5`. And so on\n",
    "* This way we can try all midpoints as thresholds!"
   ]
  },
  {
   "cell_type": "code",
   "execution_count": 39,
   "id": "dbcc0406",
   "metadata": {},
   "outputs": [
    {
     "name": "stdout",
     "output_type": "stream",
     "text": [
      "Best split for the root node is: Feature 4 > 47.0\n",
      "Information gain for this split is: 0.16582425168599513\n",
      "Weighted entropy is: 0.46102820451570703\n"
     ]
    }
   ],
   "source": [
    "# Now let's find the best split and see the information gain\n",
    "h_current = compute_entropy(y_train)\n",
    "\n",
    "ex_best_split_index,ex_best_threshold = compute_best_split(X_train,y_train,h_current)\n",
    "\n",
    "h_split = compute_weighted_entropy(*split_data(X_train,\n",
    "                                               y_train,\n",
    "                                               ex_best_split_index,\n",
    "                                               ex_best_threshold\n",
    "                                              ))\n",
    "\n",
    "print(\"Best split for the root node is: Feature {} > {}\".format(ex_best_split_index,ex_best_threshold))\n",
    "print(\"Information gain for this split is: {}\".format(h_current - h_split))\n",
    "print(\"Weighted entropy is: {}\".format(h_split))"
   ]
  },
  {
   "cell_type": "markdown",
   "id": "02d75792",
   "metadata": {},
   "source": [
    "* Fascinating, isn't it?\n",
    "\n",
    "Now we have everything ready, we have the functions to measure the impurity of splits, we have a function to split the data and a function to find the best split. All we need is a decision tree classifier class to make a tree. Let's implement it."
   ]
  },
  {
   "cell_type": "code",
   "execution_count": 40,
   "id": "2809f914",
   "metadata": {},
   "outputs": [],
   "source": [
    "class DecisionNode:\n",
    "    \n",
    "    def __init__(self,feature=None,threshold=None,left=None,right=None,label=None):\n",
    "        \n",
    "        self.feature = feature\n",
    "        self.threshold = threshold\n",
    "        self.left = left\n",
    "        self.right = right\n",
    "        self.label = label"
   ]
  },
  {
   "cell_type": "markdown",
   "id": "4f8e277e",
   "metadata": {},
   "source": [
    "* First, we'll start with a DecisionNode class, this is what we call a split. \n",
    "- `self.feature` is the index of the feature\n",
    "- `self.threshold` is the threshold\n",
    "- `self.left` is the left node of the node. \n",
    "- `self.right`is the right node of the node\n",
    "- `self.label` only leaf nodes (nodes that do predictions) will have this value."
   ]
  },
  {
   "cell_type": "markdown",
   "id": "98bda0e5",
   "metadata": {},
   "source": [
    "* Now the confusing part, recursive algorithm to make a tree. Let's get back to our first example to understand it.\n",
    "\n",
    "![decision_tree_example](decision_tree_example.png)\n"
   ]
  },
  {
   "cell_type": "markdown",
   "id": "e3e9f304",
   "metadata": {},
   "source": [
    "* We've started at the root node, found out that Feature X > 0.5 is the best split. Now let's look at the left of the root node. If we ignore the root node, we can notice that left of the rood node is also a decision tree:\n",
    "\n",
    "\n",
    "<img src=\"left_subtree.png\" width=200 />\n",
    "\n",
    "We can call this lil tree as left subtree. Same applies to the right as well. We have a right subtree there. This is where recursion takes place. Let's see the code to understand it better."
   ]
  },
  {
   "cell_type": "code",
   "execution_count": 41,
   "id": "41e916ee",
   "metadata": {},
   "outputs": [],
   "source": [
    "class DecisionTreeClassifier:\n",
    "    \n",
    "    def __init__(self,max_depth=None,min_samples_split=2):\n",
    "        \n",
    "        # Max depth is one of our stopping criteria\n",
    "        self.max_depth = max_depth\n",
    "        \n",
    "        # Number of samples remaining is one of our other criteria\n",
    "        self.min_samples_split = min_samples_split\n",
    "        \n",
    "        # Root of the tree\n",
    "        self.root = None\n",
    "        \n",
    "    \n",
    "    def fit(self,X,y):\n",
    "        \n",
    "        self.root = self._build_tree(X,y,0)\n",
    "    \n",
    "    \n",
    "    def _build_tree(self,X,y,depth):\n",
    "        \n",
    "        num_samples,num_features = X.shape\n",
    "        num_classes = len(np.unique(y))\n",
    "        \n",
    "        # We check if any of our stopping criteria is met.\n",
    "        if depth == self.max_depth or num_samples < self.min_samples_split or num_classes==1:\n",
    "            \n",
    "            # We use the most repeated value as the label\n",
    "            # Such as if samples are (1,1,1,0) in that node, label is 1\n",
    "            label = scipy.stats.mode(y)[0]\n",
    "            \n",
    "            # We return a leaf node, which only has a label (the prediction)\n",
    "            return DecisionNode(label=label)\n",
    "        \n",
    "        \n",
    "        h_current = compute_entropy(y) \n",
    "        best_split_index,best_threshold = compute_best_split(X,y,h_current)  \n",
    "        X_left,X_right,y_left,y_right = split_data(X,y,best_split_index,best_threshold)\n",
    "        \n",
    "        \n",
    "        # Recursive call to build the left and right subtrees\n",
    "        \n",
    "        left_subtree = self._build_tree(X_left,y_left,depth+1)\n",
    "        right_subtree = self._build_tree(X_right,y_right,depth+1)\n",
    "        \n",
    "        return DecisionNode(feature=best_split_index,threshold=best_threshold,left=left_subtree,right=right_subtree)\n",
    "        \n",
    "        \n",
    "    def predict(self, X):\n",
    "        predictions = [self._predict_tree(x, self.root) for x in X]\n",
    "        return predictions\n",
    "\n",
    "    def _predict_tree(self, x, node):\n",
    "        \n",
    "        # I'll explain this one below.\n",
    "        \n",
    "        if node.label is not None:\n",
    "            return node.label\n",
    "        if x[node.feature] <= node.threshold:\n",
    "            return self._predict_tree(x, node.left)\n",
    "        else:\n",
    "            return self._predict_tree(x, node.right)\n"
   ]
  },
  {
   "cell_type": "markdown",
   "id": "5c9f6434",
   "metadata": {},
   "source": [
    "* I've tried to explain some of the code with comment lines, but now I'll do my best to explain other parts.\n",
    "\n",
    "When we call the fit function, _build_tree function executes and returns the root node of the tree. This root node has to have left and right subtrees, so we call the function again inside the function (recursion)\n",
    "\n",
    "As you see, when we call the function again for the left subtree, we don't give all the data to it, we just give the data that is on the left. And we've also increased the depth 1.\n",
    "\n",
    "Let's train a DTC to see this."
   ]
  },
  {
   "cell_type": "code",
   "execution_count": 52,
   "id": "eda6fae0",
   "metadata": {},
   "outputs": [],
   "source": [
    "DTC = DecisionTreeClassifier(max_depth=2)"
   ]
  },
  {
   "cell_type": "code",
   "execution_count": 53,
   "id": "a7578db8",
   "metadata": {},
   "outputs": [],
   "source": [
    "DTC.fit(X_train,y_train)"
   ]
  },
  {
   "cell_type": "code",
   "execution_count": 54,
   "id": "f505eb10",
   "metadata": {},
   "outputs": [
    {
     "name": "stdout",
     "output_type": "stream",
     "text": [
      "<__main__.DecisionNode object at 0x1681f3ed0>\n",
      "4\n",
      "47.0\n"
     ]
    }
   ],
   "source": [
    "print(DTC.root)\n",
    "print(DTC.root.feature)\n",
    "print(DTC.root.threshold)"
   ]
  },
  {
   "cell_type": "markdown",
   "id": "29797272",
   "metadata": {},
   "source": [
    "* Root node of the DTC is a node and values are what we found before."
   ]
  },
  {
   "cell_type": "code",
   "execution_count": 55,
   "id": "64948f7f",
   "metadata": {},
   "outputs": [
    {
     "name": "stdout",
     "output_type": "stream",
     "text": [
      "<__main__.DecisionNode object at 0x1681f34d0>\n",
      "0\n",
      "61.0\n",
      "None\n"
     ]
    }
   ],
   "source": [
    "print(DTC.root.left)\n",
    "print(DTC.root.left.feature)\n",
    "print(DTC.root.left.threshold)\n",
    "print(DTC.root.left.label)"
   ]
  },
  {
   "cell_type": "markdown",
   "id": "6cacd678",
   "metadata": {},
   "source": [
    "* Since it doesn't have a label, left node of the root node isn't a leaf node (a node that does a prediction) It shows us best way to split samples that is Feature4<47 is splitting them as Feature0<61. "
   ]
  },
  {
   "cell_type": "code",
   "execution_count": 56,
   "id": "084b0f92",
   "metadata": {},
   "outputs": [
    {
     "name": "stdout",
     "output_type": "stream",
     "text": [
      "0\n"
     ]
    }
   ],
   "source": [
    "print(DTC.root.left.left.label)"
   ]
  },
  {
   "cell_type": "markdown",
   "id": "5d0f455f",
   "metadata": {},
   "source": [
    "* Whoa, left of the left is a leaf node!"
   ]
  },
  {
   "cell_type": "code",
   "execution_count": 57,
   "id": "bd4276d6",
   "metadata": {},
   "outputs": [
    {
     "name": "stdout",
     "output_type": "stream",
     "text": [
      "1\n"
     ]
    }
   ],
   "source": [
    "print(DTC.root.right.right.label)"
   ]
  },
  {
   "cell_type": "markdown",
   "id": "27e4e88e",
   "metadata": {},
   "source": [
    "* This is because we set the max depth as 2 :)\n",
    "\n",
    "Now let's understand the _predict_tree function.\n",
    "It uses recursion to get to the leaves. First it checks if the node is a leaf node or not. If it is it just returns the label of leaf node.\n",
    "\n",
    "If not, it checks the condition of the current node. if condition is met, it just calls the function again but this time it gives the right node of the current node as arg. This goes until algorithm reaches a leaf node and returns a label."
   ]
  },
  {
   "cell_type": "markdown",
   "id": "a4bcba52",
   "metadata": {},
   "source": [
    "## 4. Evaluating The Model\n",
    "\n",
    "Now we'll train a deeper decision tree, and evaluate it's performance on the test set."
   ]
  },
  {
   "cell_type": "code",
   "execution_count": 58,
   "id": "17ddee83",
   "metadata": {},
   "outputs": [],
   "source": [
    "DTC = DecisionTreeClassifier(max_depth=100)\n",
    "DTC.fit(X_train,y_train)"
   ]
  },
  {
   "cell_type": "code",
   "execution_count": 66,
   "id": "6cfd6ecf",
   "metadata": {},
   "outputs": [
    {
     "name": "stdout",
     "output_type": "stream",
     "text": [
      "Accuracy of the model 85.42%\n",
      "Recall of the model 89.55%\n",
      "Precision of the model 93.15%\n"
     ]
    }
   ],
   "source": [
    "from sklearn.metrics import precision_score,recall_score,f1_score\n",
    "\n",
    "y_pred = DTC.predict(X_test)\n",
    "accuracy = round(np.sum((y_pred == y_test).astype(\"int\")) / len(y_pred) * 100,2)\n",
    "\n",
    "print(\"Accuracy of the model {}%\".format(accuracy))\n",
    "\n",
    "recall = recall_score(y_true=y_test,y_pred=y_pred)\n",
    "print(\"Recall of the model {}%\".format(round(recall * 100,2)))\n",
    "\n",
    "precision = precision_score(y_true=y_test,y_pred=y_pred)\n",
    "print(\"Precision of the model {}%\".format(round(precision *100,2)))"
   ]
  },
  {
   "cell_type": "markdown",
   "id": "f4f089aa",
   "metadata": {},
   "source": [
    "* Now let's try a few depth values to find the best model."
   ]
  },
  {
   "cell_type": "code",
   "execution_count": 69,
   "id": "1b3d32da",
   "metadata": {},
   "outputs": [],
   "source": [
    "# First, let's create a cross validation set.\n",
    "X_train,X_cv,y_train,y_cv = train_test_split(X_train,y_train)"
   ]
  },
  {
   "cell_type": "code",
   "execution_count": 70,
   "id": "6f15cfae",
   "metadata": {},
   "outputs": [],
   "source": [
    "def find_best_model(X_train,X_cv,y_train,y_cv):\n",
    "    \n",
    "    best_depth = 0\n",
    "    best_depth_f1_score = 0\n",
    "    \n",
    "    for i in range(5,155,5):\n",
    "        DTC_cv = DecisionTreeClassifier(max_depth=i)\n",
    "        DTC_cv.fit(X_train,y_train)\n",
    "        \n",
    "        y_pred = DTC_cv.predict(X_cv)\n",
    "        y_true = y_cv\n",
    "        \n",
    "        f1 = f1_score(y_pred=y_pred,y_true=y_true)\n",
    "        \n",
    "        if f1 > best_depth_f1_score:\n",
    "            best_depth = i\n",
    "            best_depth_f1_score = f1\n",
    "        \n",
    "    return best_depth,best_depth_f1_score"
   ]
  },
  {
   "cell_type": "code",
   "execution_count": 71,
   "id": "5aedfe28",
   "metadata": {},
   "outputs": [],
   "source": [
    "best_depth,best_depth_f1_score = find_best_model(X_train,X_cv,y_train,y_cv)"
   ]
  },
  {
   "cell_type": "code",
   "execution_count": 72,
   "id": "a361196e",
   "metadata": {},
   "outputs": [
    {
     "name": "stdout",
     "output_type": "stream",
     "text": [
      "5\n",
      "0.9463087248322147\n"
     ]
    }
   ],
   "source": [
    "print(best_depth)\n",
    "print(best_depth_f1_score)"
   ]
  },
  {
   "cell_type": "markdown",
   "id": "9091d6b2",
   "metadata": {},
   "source": [
    "## 5. Conclusion\n",
    "\n",
    "Decision Tree Classifiers were the first algorithm I've learned that is not based on gradient descent, and I truly enjoyed implementing it.\n",
    "\n",
    "When I first implemented it from scratch, recursion was the hardest part for me and I got help from ChatGPT. So if you're having difficulties understanding that part, don't worry. Ask for help from chatgpt! \n",
    "\n",
    "All the decision trees and explanations are prepared by myself (I've drawn those decision trees on an online algorithm chart website and added dots on online paint :D )and there might be some incorrect information unfortunately. So if you think so, please let me know :)\n",
    "\n",
    "See you soon in another from scratch notebook!"
   ]
  },
  {
   "cell_type": "code",
   "execution_count": null,
   "id": "81717b31",
   "metadata": {},
   "outputs": [],
   "source": []
  }
 ],
 "metadata": {
  "kernelspec": {
   "display_name": "Python 3 (ipykernel)",
   "language": "python",
   "name": "python3"
  },
  "language_info": {
   "codemirror_mode": {
    "name": "ipython",
    "version": 3
   },
   "file_extension": ".py",
   "mimetype": "text/x-python",
   "name": "python",
   "nbconvert_exporter": "python",
   "pygments_lexer": "ipython3",
   "version": "3.11.4"
  }
 },
 "nbformat": 4,
 "nbformat_minor": 5
}
